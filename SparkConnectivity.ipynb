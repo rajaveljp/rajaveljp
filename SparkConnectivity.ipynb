{
 "cells": [
  {
   "cell_type": "code",
   "execution_count": 1,
   "metadata": {},
   "outputs": [],
   "source": [
    "import os\n",
    "import sys\n",
    "\n",
    "os.environ['PYSPARK_PYTHON'] = sys.executable\n",
    "os.environ['PYSPARK_DRIVER_PYTHON'] = sys.executable\n",
    "\n"
   ]
  },
  {
   "cell_type": "code",
   "execution_count": null,
   "metadata": {
    "scrolled": false
   },
   "outputs": [],
   "source": [
    "#!pip install pyspark --break-system-packages\n",
    "#!pip install delta-spark==2.1.1 --break-system-package"
   ]
  },
  {
   "cell_type": "code",
   "execution_count": 2,
   "metadata": {},
   "outputs": [
    {
     "name": "stdout",
     "output_type": "stream",
     "text": [
      "25/03/21 10:24:02 WARN Utils: Your hostname, DESKTOP-2VPR9IB resolves to a loopback address: 127.0.1.1; using 172.30.143.1 instead (on interface eth0)\n",
      "25/03/21 10:24:02 WARN Utils: Set SPARK_LOCAL_IP if you need to bind to another address\n",
      ":: loading settings :: url = jar:file:/usr/local/lib/python3.12/dist-packages/pyspark/jars/ivy-2.5.1.jar!/org/apache/ivy/core/settings/ivysettings.xml\n"
     ]
    },
    {
     "name": "stderr",
     "output_type": "stream",
     "text": [
      "Ivy Default Cache set to: /root/.ivy2/cache\n",
      "The jars for the packages stored in: /root/.ivy2/jars\n",
      "io.delta#delta-core_2.12 added as a dependency\n",
      ":: resolving dependencies :: org.apache.spark#spark-submit-parent-abdfdb75-20fb-4d8b-b359-be0c1dad4303;1.0\n",
      "\tconfs: [default]\n",
      "\tfound io.delta#delta-core_2.12;2.0.0 in central\n",
      "\tfound io.delta#delta-storage;2.0.0 in central\n",
      "\tfound org.antlr#antlr4-runtime;4.8 in central\n",
      "\tfound org.codehaus.jackson#jackson-core-asl;1.9.13 in central\n",
      ":: resolution report :: resolve 155ms :: artifacts dl 6ms\n",
      "\t:: modules in use:\n",
      "\tio.delta#delta-core_2.12;2.0.0 from central in [default]\n",
      "\tio.delta#delta-storage;2.0.0 from central in [default]\n",
      "\torg.antlr#antlr4-runtime;4.8 from central in [default]\n",
      "\torg.codehaus.jackson#jackson-core-asl;1.9.13 from central in [default]\n",
      "\t---------------------------------------------------------------------\n",
      "\t|                  |            modules            ||   artifacts   |\n",
      "\t|       conf       | number| search|dwnlded|evicted|| number|dwnlded|\n",
      "\t---------------------------------------------------------------------\n",
      "\t|      default     |   4   |   0   |   0   |   0   ||   4   |   0   |\n",
      "\t---------------------------------------------------------------------\n",
      ":: retrieving :: org.apache.spark#spark-submit-parent-abdfdb75-20fb-4d8b-b359-be0c1dad4303\n",
      "\tconfs: [default]\n",
      "\t0 artifacts copied, 4 already retrieved (0kB/6ms)\n"
     ]
    },
    {
     "name": "stdout",
     "output_type": "stream",
     "text": [
      "25/03/21 10:24:04 WARN NativeCodeLoader: Unable to load native-hadoop library for your platform... using builtin-java classes where applicable\n"
     ]
    },
    {
     "name": "stderr",
     "output_type": "stream",
     "text": [
      "Setting default log level to \"WARN\".\n",
      "To adjust logging level use sc.setLogLevel(newLevel). For SparkR, use setLogLevel(newLevel).\n",
      "/usr/local/lib/python3.12/dist-packages/pyspark/sql/context.py:112: FutureWarning: Deprecated in 3.0.0. Use SparkSession.builder.getOrCreate() instead.\n",
      "  warnings.warn(\n"
     ]
    }
   ],
   "source": [
    "import os\n",
    "from pyspark import SparkContext, SparkConf\n",
    "from pyspark import SQLContext\n",
    "from pyspark.sql import *\n",
    "from pyspark.sql.functions import *\n",
    "from pyspark import SparkContext;\n",
    "from pyspark.sql.session import SparkSession\n",
    "from delta import *\n",
    "\n",
    "\n",
    "conf = SparkConf().setAppName('app').setMaster('local[*]').setAll([(\"spark.sql.catalog.spark_catalog\", \"org.apache.spark.sql.delta.catalog.DeltaCatalog\"),\n",
    "                                                                   (\"spark.sql.extensions\", \"io.delta.sql.DeltaSparkSessionExtension\"),\n",
    "                                                                   (\"spark.sql.execution.arrow.pyspark.enabled\", \"true\"), \n",
    "                                                                   (\"spark.memory.fraction\", 0.8) ,(\"spark.executor.memory\", \"14g\"),\n",
    "                                                                   (\"spark.driver.memory\", \"12g\"),(\"spark.sql.shuffle.partitions\" , \"800\"),\n",
    "                                                                   ('spark.driver.extraClassPath', '/usr/share/java/mssql-jdbc-12.8.1.jre8.jar'),\n",
    "                                                                   ('spark.executor.extraClassPath', '/usr/share/java/mssql-jdbc-12.8.1.jre8.jar'),\n",
    "                                                                  (\"spark.jars.packages\", \"io.delta:delta-core_2.12:2.0.0\")])\n",
    "\n",
    "sc = SparkContext(conf=conf)\n",
    "sqlContext = SQLContext(sc)\n"
   ]
  },
  {
   "cell_type": "code",
   "execution_count": null,
   "metadata": {},
   "outputs": [],
   "source": []
  },
  {
   "cell_type": "code",
   "execution_count": null,
   "metadata": {},
   "outputs": [],
   "source": []
  },
  {
   "cell_type": "code",
   "execution_count": null,
   "metadata": {},
   "outputs": [],
   "source": [
    "#%%time\n",
    "#data.load().write.mode('overwrite').option(\"header\",True) \\\n",
    "# .csv(\"/home/rajavel/spark\")"
   ]
  },
  {
   "cell_type": "code",
   "execution_count": null,
   "metadata": {},
   "outputs": [],
   "source": []
  },
  {
   "cell_type": "code",
   "execution_count": null,
   "metadata": {},
   "outputs": [],
   "source": []
  },
  {
   "cell_type": "code",
   "execution_count": 3,
   "metadata": {},
   "outputs": [
    {
     "name": "stderr",
     "output_type": "stream",
     "text": [
      "                                                                                \r"
     ]
    }
   ],
   "source": [
    "from delta.tables import *\n",
    "#df = sqlContext.read.format(\"delta\").load(\"/home/rajavel/spark/delta/events\")\n",
    "deltaTable = DeltaTable.forPath(sqlContext.sparkSession, \"/home/rajavel/spark/delta/events\")\n",
    "#df.show()"
   ]
  },
  {
   "cell_type": "code",
   "execution_count": 4,
   "metadata": {},
   "outputs": [],
   "source": [
    "data = sqlContext.read \\\n",
    "     .format('jdbc') \\\n",
    "     .option('url', 'jdbc:sqlserver://127.0.0.1:1433;encrypt=true;trustServerCertificate=true') \\\n",
    "     .option(\"driver\", 'com.microsoft.sqlserver.jdbc.SQLServerDriver') \\\n",
    "     .option('user', 'sa') \\\n",
    "     .option('password', '####') \\\n",
    "     .option('query', '(SELECT * FROM AdventureWorksDW2022.dbo.DimCustomer)')\n",
    "\n",
    "#data.load().write.format(\"delta\").mode(\"overwrite\").save(\"/home/rajavel/spark/delta/events\");"
   ]
  },
  {
   "cell_type": "code",
   "execution_count": 8,
   "metadata": {},
   "outputs": [
    {
     "name": "stdout",
     "output_type": "stream",
     "text": [
      "25/03/21 10:25:40 WARN package: Truncated the string representation of a plan since it was too large. This behavior can be adjusted by setting 'spark.sql.debug.maxToStringFields'.\n"
     ]
    },
    {
     "name": "stderr",
     "output_type": "stream",
     "text": [
      "                                                                                \r"
     ]
    }
   ],
   "source": [
    "deltaTable.alias(\"oldData\") \\\n",
    "  .merge(\n",
    "    data.load().alias(\"newData\"),\n",
    "    \"oldData.CustomerKey = newData.CustomerKey\") \\\n",
    "  .whenMatchedUpdate(set = { \"CustomerKey\": col(\"newData.CustomerKey\") }) \\\n",
    "  .whenNotMatchedInsert(values = { \"CustomerKey\": col(\"newData.CustomerKey\") }) \\\n",
    "  .execute()"
   ]
  },
  {
   "cell_type": "code",
   "execution_count": null,
   "metadata": {},
   "outputs": [],
   "source": []
  },
  {
   "cell_type": "code",
   "execution_count": 10,
   "metadata": {},
   "outputs": [
    {
     "data": {
      "text/plain": [
       "18486"
      ]
     },
     "execution_count": 10,
     "metadata": {},
     "output_type": "execute_result"
    }
   ],
   "source": [
    "deltaTable.toDF().count()"
   ]
  },
  {
   "cell_type": "code",
   "execution_count": 13,
   "metadata": {},
   "outputs": [
    {
     "data": {
      "text/plain": [
       "18485"
      ]
     },
     "execution_count": 13,
     "metadata": {},
     "output_type": "execute_result"
    }
   ],
   "source": [
    "df = sqlContext.read.format(\"delta\") \\\n",
    "  .option(\"versionAsOf\", 0) \\\n",
    "  .load(\"/home/rajavel/spark/delta/events\")\n",
    "\n",
    "df.count()"
   ]
  },
  {
   "cell_type": "code",
   "execution_count": null,
   "metadata": {},
   "outputs": [],
   "source": [
    "file_location = \"/tmp/customers.csv\"\n",
    "file_type = \"csv\"\n",
    "\n",
    "infer_schema = \"true\"\n",
    "first_row_is_header = \"true\"\n",
    "delimiter = \"\\t\"\n",
    "max_cols = 15000000 # 14848614 variants loaded\n",
    "\n",
    "#data = sqlContext.read.format(file_type) \\\n",
    "#  .option(\"inferSchema\", infer_schema) \\\n",
    "#  .option(\"header\", first_row_is_header) \\\n",
    "#  .option(\"sep\", delimiter) \\\n",
    "#  .option(\"maxColumns\", max_cols) \\\n",
    "#  .load(file_location)"
   ]
  },
  {
   "cell_type": "code",
   "execution_count": 12,
   "metadata": {},
   "outputs": [
    {
     "name": "stdout",
     "output_type": "stream",
     "text": [
      "25/03/21 10:30:53 WARN ResolveWriteToStream: Temporary checkpoint location created which is deleted normally when the query didn't fail: /tmp/temporary-786ec3e4-663d-41cf-918d-15cf1c3d62be. If it's required to delete it under any circumstances, please set spark.sql.streaming.forceDeleteTempCheckpointLocation to true. Important to know deleting temp checkpoint folder is best effort.\n",
      "25/03/21 10:30:53 WARN ResolveWriteToStream: spark.sql.adaptive.enabled is not supported in streaming DataFrames/Datasets and will be disabled.\n",
      "-------------------------------------------\n",
      "Batch: 0\n",
      "-------------------------------------------\n",
      "+-----------+------------+--------------------+-----+---------+----------+--------+---------+----------+-------------+------+------+--------------------+------------+-------------+--------------------+-------------------+--------------------+---------------+-----------------+--------------------+----------------+--------------+---------------+--------------------+------------+-------------------+-----------------+---------------+\n",
      "|CustomerKey|GeographyKey|CustomerAlternateKey|Title|FirstName|MiddleName|LastName|NameStyle| BirthDate|MaritalStatus|Suffix|Gender|        EmailAddress|YearlyIncome|TotalChildren|NumberChildrenAtHome|   EnglishEducation|    SpanishEducation|FrenchEducation|EnglishOccupation|   SpanishOccupation|FrenchOccupation|HouseOwnerFlag|NumberCarsOwned|        AddressLine1|AddressLine2|              Phone|DateFirstPurchase|CommuteDistance|\n",
      "+-----------+------------+--------------------+-----+---------+----------+--------+---------+----------+-------------+------+------+--------------------+------------+-------------+--------------------+-------------------+--------------------+---------------+-----------------+--------------------+----------------+--------------+---------------+--------------------+------------+-------------------+-----------------+---------------+\n",
      "|      11001|          37|          AW00011001| null|   Eugene|         L|   Huang|    false|1976-05-10|            S|  null|     M|eugene10@adventur...|  60000.0000|            3|                   3|          Bachelors|        Licenciatura|        Bac + 4|     Professional|         Profesional|           Cadre|             0|              1|          2243 W St.|        null|1 (11) 500 555-0110|       2011-01-15|      0-1 Miles|\n",
      "|      11006|           8|          AW00011006| null|    Janet|         G| Alvarez|    false|1976-12-02|            S|  null|     F|janet9@adventure-...|  70000.0000|            0|                   0|          Bachelors|        Licenciatura|        Bac + 4|     Professional|         Profesional|           Cadre|             1|              1|       2612 Berry Dr|        null|1 (11) 500 555-0184|       2011-01-24|     5-10 Miles|\n",
      "|      11010|          22|          AW00011010| null|Jacquelyn|         C|  Suarez|    false|1969-08-05|            S|  null|     F|jacquelyn20@adven...|  70000.0000|            0|                   0|          Bachelors|        Licenciatura|        Bac + 4|     Professional|         Profesional|           Cadre|             0|              1| 7800 Corrinne Court|        null|1 (11) 500 555-0169|       2011-01-14|     5-10 Miles|\n",
      "|      11026|           4|          AW00011026| null|   Harold|      null|     Sai|    false|1951-10-01|            S|  null|     M|harold3@adventure...|  30000.0000|            2|                   0|    Partial College|Estudios universi...|   Baccalauréat|         Clerical|      Administrativo|         Employé|             0|              2|      8211 Leeds Ct.|        null|1 (11) 500 555-0131|       2011-01-23|      1-2 Miles|\n",
      "|      11030|          28|          AW00011030| null|  Bethany|         G|    Yuan|    false|1958-02-18|            M|  null|     F|bethany10@adventu...|  10000.0000|            2|                   1|Partial High School|Educación secunda...|     Niveau bac|         Clerical|      Administrativo|         Employé|             1|              2|   636 Vine Hill Way|        null|1 (11) 500 555-0182|       2011-02-05|      1-2 Miles|\n",
      "|      11043|         325|          AW00011043| null|   Nathan|         M| Simmons|    false|1981-08-23|            M|  null|     M|nathan11@adventur...|  60000.0000|            0|                   0|    Partial College|Estudios universi...|   Baccalauréat|   Skilled Manual|Obrero especializado|      Technicien|             1|              2|        1170 Shaw Rd|        null|       296-555-0181|       2013-05-08|     5-10 Miles|\n",
      "|      11045|           8|          AW00011045| null|  Leonard|         G|    Nara|    false|1955-11-16|            S|  null|     M|leonard18@adventu...|  30000.0000|            3|                   0|        High School|Educación secundaria|        Bac + 2|   Skilled Manual|Obrero especializado|      Technicien|             0|              2|  7466 La Vista Ave.|        null|1 (11) 500 555-0151|       2013-04-10|      1-2 Miles|\n",
      "|      11056|          10|          AW00011056| null|  Michele|         L|    Nath|    false|1958-10-01|            M|  null|     F|michele19@adventu...|  40000.0000|            3|                   0|    Partial College|Estudios universi...|   Baccalauréat|   Skilled Manual|Obrero especializado|      Technicien|             1|              2|      5464 Janin Pl.|        null|1 (11) 500 555-0178|       2011-02-26|     5-10 Miles|\n",
      "|      11059|          27|          AW00011059| null|   Ashlee|         J|Andersen|    false|1959-09-29|            S|  null|     F|ashlee19@adventur...|  80000.0000|            2|                   0|    Partial College|Estudios universi...|   Baccalauréat|   Skilled Manual|Obrero especializado|      Technicien|             1|              2|  8255 Highland Road|        null|1 (11) 500 555-0112|       2013-02-18|     5-10 Miles|\n",
      "|      11070|          39|          AW00011070| null|   Willie|         T|    Raji|    false|1960-10-02|            M|  null|     M|willie40@adventur...|  80000.0000|            2|                   0|        High School|Educación secundaria|        Bac + 2|   Skilled Manual|Obrero especializado|      Technicien|             1|              2|   6260 Vernal Drive|        null|1 (11) 500 555-0151|       2011-04-28|     5-10 Miles|\n",
      "|      11071|          24|          AW00011071| null|    Linda|      null| Serrano|    false|1960-12-23|            S|  null|     F|linda31@adventure...|  80000.0000|            2|                   0|        High School|Educación secundaria|        Bac + 2|   Skilled Manual|Obrero especializado|      Technicien|             1|              2|       9808 Shaw Rd.|        null|1 (11) 500 555-0130|       2013-03-01|     5-10 Miles|\n",
      "|      11074|          28|          AW00011074| null|     Levi|         A|    Arun|    false|1962-02-25|            S|  null|     M|levi6@adventure-w...|  70000.0000|            2|                   0|        High School|Educación secundaria|        Bac + 2|   Skilled Manual|Obrero especializado|      Technicien|             1|              2|       4661 Bluetail|        null|1 (11) 500 555-0127|       2013-03-23|     5-10 Miles|\n",
      "|      11079|          34|          AW00011079| null|   Donald|      null|Gonzalez|    false|1970-03-07|            S|  null|     M|donald20@adventur...| 160000.0000|            0|                   0|    Graduate Degree|Estudios de postg...|        Bac + 3|       Management|             Gestión|       Direction|             1|              2|   4236 Malibu Place|        null|1 (11) 500 555-0137|       2013-03-15|      0-1 Miles|\n",
      "|      11084|         543|          AW00011084| null|    Lucas|      null|Phillips|    false|1963-03-12|            S|  null|     M|lucas7@adventure-...|  80000.0000|            2|                   0|Partial High School|Educación secunda...|     Niveau bac|   Skilled Manual|Obrero especializado|      Technicien|             0|              2|8668 St. Celestin...|        null|       863-555-0172|       2013-01-04|      1-2 Miles|\n",
      "|      11085|         345|          AW00011085| null|    Emily|      null| Johnson|    false|1963-01-16|            S|  null|     F|emily1@adventure-...|  60000.0000|            2|                   0|        High School|Educación secundaria|        Bac + 2|     Professional|         Profesional|           Cadre|             0|              2|  7926 Stephanie Way|        null|       850-555-0184|       2013-12-06|     5-10 Miles|\n",
      "|      11096|          12|          AW00011096| null|   Andrés|      null|   Anand|    false|1968-02-07|            M|  null|     M|andrés18@adventur...|  60000.0000|            1|                   0|          Bachelors|        Licenciatura|        Bac + 4|     Professional|         Profesional|           Cadre|             1|              1|  5423 Los Gatos Ct.|        null|1 (11) 500 555-0184|       2011-04-11|     5-10 Miles|\n",
      "|      11103|           3|          AW00011103| null|   Cassie|      null|  Chande|    false|1981-04-12|            S|  null|     F|cassie13@adventur...|  70000.0000|            0|                   0|          Bachelors|        Licenciatura|        Bac + 4|     Professional|         Profesional|           Cadre|             1|              1| 9448 San Marino Ct.|        null|1 (11) 500 555-0166|       2011-04-15|     5-10 Miles|\n",
      "|      11107|          17|          AW00011107| null|   Bianca|      null|     Lin|    false|1976-03-04|            M|  null|     F|bianca7@adventure...|  90000.0000|            1|                   0|          Bachelors|        Licenciatura|        Bac + 4|     Professional|         Profesional|           Cadre|             1|              1|           7530 Eola|        null|1 (11) 500 555-0121|       2011-05-01|     5-10 Miles|\n",
      "|      11112|          25|          AW00011112| null|  Crystal|         C|    Wang|    false|1968-03-08|            M|  null|     F|crystal3@adventur...|  60000.0000|            1|                   0|    Partial College|Estudios universi...|   Baccalauréat|   Skilled Manual|Obrero especializado|      Technicien|             1|              1|    2773 Kirkwood Dr|        null|1 (11) 500 555-0134|       2011-05-25|      0-1 Miles|\n",
      "|      11114|          14|          AW00011114| null|   Leslie|         C|  Moreno|    false|1967-11-25|            S|  null|     F|leslie7@adventure...|  70000.0000|            5|                   4|    Partial College|Estudios universi...|   Baccalauréat|   Skilled Manual|Obrero especializado|      Technicien|             1|              2|      7941 Cristobal|        null|1 (11) 500 555-0115|       2013-03-18|     5-10 Miles|\n",
      "+-----------+------------+--------------------+-----+---------+----------+--------+---------+----------+-------------+------+------+--------------------+------------+-------------+--------------------+-------------------+--------------------+---------------+-----------------+--------------------+----------------+--------------+---------------+--------------------+------------+-------------------+-----------------+---------------+\n",
      "only showing top 20 rows\n",
      "\n"
     ]
    }
   ],
   "source": [
    "stream2 = sqlContext.readStream.format(\"delta\") \\\n",
    "  .load(\"/home/rajavel/spark/delta/events\") \\\n",
    "  .writeStream.format(\"console\") \\\n",
    "  .start()"
   ]
  },
  {
   "cell_type": "code",
   "execution_count": 17,
   "metadata": {},
   "outputs": [],
   "source": [
    "fullHistoryDF = deltaTable.history()"
   ]
  },
  {
   "cell_type": "code",
   "execution_count": 20,
   "metadata": {},
   "outputs": [
    {
     "name": "stdout",
     "output_type": "stream",
     "text": [
      "+-------+--------------------+------+--------+---------+--------------------+----+--------+---------+-----------+--------------+-------------+--------------------+------------+--------------------+\n",
      "|version|           timestamp|userId|userName|operation| operationParameters| job|notebook|clusterId|readVersion|isolationLevel|isBlindAppend|    operationMetrics|userMetadata|          engineInfo|\n",
      "+-------+--------------------+------+--------+---------+--------------------+----+--------+---------+-----------+--------------+-------------+--------------------+------------+--------------------+\n",
      "|      1|2025-03-21 10:25:...|  null|    null|    MERGE|{predicate -> (ol...|null|    null|     null|          0|  Serializable|        false|{numTargetRowsCop...|        null|Apache-Spark/3.3....|\n",
      "|      0|2025-03-21 09:56:...|  null|    null|    WRITE|{mode -> Overwrit...|null|    null|     null|       null|  Serializable|        false|{numFiles -> 1, n...|        null|Apache-Spark/3.2....|\n",
      "+-------+--------------------+------+--------+---------+--------------------+----+--------+---------+-----------+--------------+-------------+--------------------+------------+--------------------+\n",
      "\n"
     ]
    }
   ],
   "source": [
    "fullHistoryDF.show()"
   ]
  },
  {
   "cell_type": "code",
   "execution_count": null,
   "metadata": {},
   "outputs": [],
   "source": []
  }
 ],
 "metadata": {
  "kernelspec": {
   "display_name": "Python 3 (ipykernel)",
   "language": "python",
   "name": "python3"
  },
  "language_info": {
   "codemirror_mode": {
    "name": "ipython",
    "version": 3
   },
   "file_extension": ".py",
   "mimetype": "text/x-python",
   "name": "python",
   "nbconvert_exporter": "python",
   "pygments_lexer": "ipython3",
   "version": "3.12.3"
  }
 },
 "nbformat": 4,
 "nbformat_minor": 2
}
